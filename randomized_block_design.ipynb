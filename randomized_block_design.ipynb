{
 "cells": [
  {
   "cell_type": "markdown",
   "metadata": {},
   "source": [
    "# 随机完全区组设计"
   ]
  },
  {
   "cell_type": "markdown",
   "metadata": {},
   "source": [
    "随机完全区组设计是一种完全区组设计，在完全区组设计中，全部试验按随机顺序进行就得到随机完全区组设计，简称为随机区组设计。随机化完全区组设计将整个试验环境划分成若干各自相对均匀的区组，然后把每一区组分成K个试验小区，随机布置K个处理的设计。由于每一区组必须而且也只能包括每一处理的一个小区，故称为完全区组。"
   ]
  },
  {
   "cell_type": "markdown",
   "metadata": {},
   "source": [
    "## 举个栗子"
   ]
  },
  {
   "cell_type": "markdown",
   "metadata": {},
   "source": [
    "说明：本栗子来自 林木育种学(NFU) 2023-2 学期 第 8 章遗传测定 第 11 页。该数据由边黎明老师提供。"
   ]
  },
  {
   "cell_type": "markdown",
   "metadata": {},
   "source": [
    "设有一无性系比较试验，有 7 个无性系，完全随机区组设计，3 个重复，有个小区栽 3 株树，小区排列及各小区平均胸径如下：\n",
    "\n",
    "![](https://zywu-blog-image.oss-cn-nanjing.aliyuncs.com/images/image-20230407101828467.png)\n",
    "\n",
    "<center><b>表 1.</b> 完全随机区组设计中各小区的平均胸径</center>\n",
    "\n",
    "表中的数值为该小区中3棵树的平均胸径，另外我们可以看到在3个区组中小区的排列是完全随机排列的。"
   ]
  },
  {
   "cell_type": "markdown",
   "metadata": {},
   "source": [
    "首先，我们利用 `Python` 中来自 `pandas` 的 `DataFrame` 类的创建本次计算的原始数据集。"
   ]
  },
  {
   "cell_type": "code",
   "execution_count": 6,
   "metadata": {},
   "outputs": [
    {
     "data": {
      "text/html": [
       "<table border=\"1\" class=\"dataframe\">\n",
       "  <thead>\n",
       "    <tr style=\"text-align: right;\">\n",
       "      <th>Block</th>\n",
       "      <th>Plot</th>\n",
       "      <th>Value</th>\n",
       "    </tr>\n",
       "  </thead>\n",
       "  <tbody>\n",
       "    <tr>\n",
       "      <td>I</td>\n",
       "      <td>A6</td>\n",
       "      <td>20</td>\n",
       "    </tr>\n",
       "    <tr>\n",
       "      <td>I</td>\n",
       "      <td>A1</td>\n",
       "      <td>24</td>\n",
       "    </tr>\n",
       "    <tr>\n",
       "      <td>I</td>\n",
       "      <td>A5</td>\n",
       "      <td>22</td>\n",
       "    </tr>\n",
       "    <tr>\n",
       "      <td>I</td>\n",
       "      <td>A4</td>\n",
       "      <td>18</td>\n",
       "    </tr>\n",
       "    <tr>\n",
       "      <td>I</td>\n",
       "      <td>A3</td>\n",
       "      <td>21</td>\n",
       "    </tr>\n",
       "    <tr>\n",
       "      <td>I</td>\n",
       "      <td>A7</td>\n",
       "      <td>20</td>\n",
       "    </tr>\n",
       "    <tr>\n",
       "      <td>I</td>\n",
       "      <td>A2</td>\n",
       "      <td>20</td>\n",
       "    </tr>\n",
       "    <tr>\n",
       "      <td>II</td>\n",
       "      <td>A1</td>\n",
       "      <td>26</td>\n",
       "    </tr>\n",
       "    <tr>\n",
       "      <td>II</td>\n",
       "      <td>A4</td>\n",
       "      <td>16</td>\n",
       "    </tr>\n",
       "    <tr>\n",
       "      <td>II</td>\n",
       "      <td>A3</td>\n",
       "      <td>19</td>\n",
       "    </tr>\n",
       "    <tr>\n",
       "      <td>II</td>\n",
       "      <td>A6</td>\n",
       "      <td>21</td>\n",
       "    </tr>\n",
       "    <tr>\n",
       "      <td>II</td>\n",
       "      <td>A2</td>\n",
       "      <td>19</td>\n",
       "    </tr>\n",
       "    <tr>\n",
       "      <td>II</td>\n",
       "      <td>A5</td>\n",
       "      <td>20</td>\n",
       "    </tr>\n",
       "    <tr>\n",
       "      <td>II</td>\n",
       "      <td>A7</td>\n",
       "      <td>19</td>\n",
       "    </tr>\n",
       "    <tr>\n",
       "      <td>III</td>\n",
       "      <td>A6</td>\n",
       "      <td>21</td>\n",
       "    </tr>\n",
       "    <tr>\n",
       "      <td>III</td>\n",
       "      <td>A2</td>\n",
       "      <td>21</td>\n",
       "    </tr>\n",
       "    <tr>\n",
       "      <td>III</td>\n",
       "      <td>A7</td>\n",
       "      <td>21</td>\n",
       "    </tr>\n",
       "    <tr>\n",
       "      <td>III</td>\n",
       "      <td>A5</td>\n",
       "      <td>23</td>\n",
       "    </tr>\n",
       "    <tr>\n",
       "      <td>III</td>\n",
       "      <td>A3</td>\n",
       "      <td>20</td>\n",
       "    </tr>\n",
       "    <tr>\n",
       "      <td>III</td>\n",
       "      <td>A1</td>\n",
       "      <td>23</td>\n",
       "    </tr>\n",
       "    <tr>\n",
       "      <td>III</td>\n",
       "      <td>A4</td>\n",
       "      <td>19</td>\n",
       "    </tr>\n",
       "  </tbody>\n",
       "</table>"
      ],
      "text/plain": [
       "<IPython.core.display.HTML object>"
      ]
     },
     "execution_count": 6,
     "metadata": {},
     "output_type": "execute_result"
    }
   ],
   "source": [
    "from IPython.display import HTML\n",
    "import pandas as pd\n",
    "\n",
    "data = {'Block': ['I', 'I', 'I', 'I', 'I', 'I', 'I',\n",
    "                  'II', 'II', 'II', 'II', 'II', 'II', 'II',\n",
    "                  'III', 'III', 'III', 'III', 'III', 'III', 'III'],\n",
    "        'Plot': ['A6', 'A1', 'A5', 'A4', 'A3', 'A7', 'A2',\n",
    "                 'A1', 'A4', 'A3', 'A6', 'A2', 'A5', 'A7',\n",
    "                 'A6', 'A2', 'A7', 'A5', 'A3', 'A1', 'A4'],\n",
    "        'Value':[20, 24, 22, 18, 21, 20, 20,\n",
    "                 26, 16, 19, 21, 19, 20 ,19,\n",
    "                 21, 21, 21, 23, 20, 23, 19]}\n",
    "df = pd.DataFrame(data = data)\n",
    "\n",
    "HTML(df.to_html(index=False))"
   ]
  },
  {
   "cell_type": "markdown",
   "metadata": {},
   "source": [
    "### 表格整理"
   ]
  },
  {
   "cell_type": "markdown",
   "metadata": {},
   "source": [
    "然后，我们需要将原始数据的表格进行整理，并计算各个小区在区组、各个区组在小区中的平均值。"
   ]
  },
  {
   "cell_type": "markdown",
   "metadata": {},
   "source": [
    "首先利用 `pivot` 函数将长数据格式转换成短数据格式，并利用 `rename_axis` 函数移除 headers。"
   ]
  },
  {
   "cell_type": "code",
   "execution_count": 7,
   "metadata": {},
   "outputs": [
    {
     "data": {
      "text/html": [
       "<table border=\"1\" class=\"dataframe\">\n",
       "  <thead>\n",
       "    <tr style=\"text-align: right;\">\n",
       "      <th></th>\n",
       "      <th>I</th>\n",
       "      <th>II</th>\n",
       "      <th>III</th>\n",
       "    </tr>\n",
       "  </thead>\n",
       "  <tbody>\n",
       "    <tr>\n",
       "      <th>A1</th>\n",
       "      <td>24</td>\n",
       "      <td>26</td>\n",
       "      <td>23</td>\n",
       "    </tr>\n",
       "    <tr>\n",
       "      <th>A2</th>\n",
       "      <td>20</td>\n",
       "      <td>19</td>\n",
       "      <td>21</td>\n",
       "    </tr>\n",
       "    <tr>\n",
       "      <th>A3</th>\n",
       "      <td>21</td>\n",
       "      <td>19</td>\n",
       "      <td>20</td>\n",
       "    </tr>\n",
       "    <tr>\n",
       "      <th>A4</th>\n",
       "      <td>18</td>\n",
       "      <td>16</td>\n",
       "      <td>19</td>\n",
       "    </tr>\n",
       "    <tr>\n",
       "      <th>A5</th>\n",
       "      <td>22</td>\n",
       "      <td>20</td>\n",
       "      <td>23</td>\n",
       "    </tr>\n",
       "    <tr>\n",
       "      <th>A6</th>\n",
       "      <td>20</td>\n",
       "      <td>21</td>\n",
       "      <td>21</td>\n",
       "    </tr>\n",
       "    <tr>\n",
       "      <th>A7</th>\n",
       "      <td>20</td>\n",
       "      <td>19</td>\n",
       "      <td>21</td>\n",
       "    </tr>\n",
       "  </tbody>\n",
       "</table>"
      ],
      "text/plain": [
       "<IPython.core.display.HTML object>"
      ]
     },
     "execution_count": 7,
     "metadata": {},
     "output_type": "execute_result"
    }
   ],
   "source": [
    "df_s = df.pivot(index='Plot', columns='Block', values='Value').rename_axis(None,axis=0).rename_axis(None,axis=1)\n",
    "HTML(df_s.to_html())"
   ]
  },
  {
   "cell_type": "markdown",
   "metadata": {},
   "source": [
    "通过 `pd.DataFrame` 类中 `mean` 函数计算每行每列平均值。"
   ]
  },
  {
   "cell_type": "code",
   "execution_count": 8,
   "metadata": {},
   "outputs": [
    {
     "data": {
      "text/html": [
       "<table border=\"1\" class=\"dataframe\">\n",
       "  <thead>\n",
       "    <tr style=\"text-align: right;\">\n",
       "      <th></th>\n",
       "      <th>I</th>\n",
       "      <th>II</th>\n",
       "      <th>III</th>\n",
       "      <th>mean</th>\n",
       "    </tr>\n",
       "  </thead>\n",
       "  <tbody>\n",
       "    <tr>\n",
       "      <th>A1</th>\n",
       "      <td>24.00</td>\n",
       "      <td>26.0</td>\n",
       "      <td>23.00</td>\n",
       "      <td>24.33</td>\n",
       "    </tr>\n",
       "    <tr>\n",
       "      <th>A2</th>\n",
       "      <td>20.00</td>\n",
       "      <td>19.0</td>\n",
       "      <td>21.00</td>\n",
       "      <td>20.00</td>\n",
       "    </tr>\n",
       "    <tr>\n",
       "      <th>A3</th>\n",
       "      <td>21.00</td>\n",
       "      <td>19.0</td>\n",
       "      <td>20.00</td>\n",
       "      <td>20.00</td>\n",
       "    </tr>\n",
       "    <tr>\n",
       "      <th>A4</th>\n",
       "      <td>18.00</td>\n",
       "      <td>16.0</td>\n",
       "      <td>19.00</td>\n",
       "      <td>17.67</td>\n",
       "    </tr>\n",
       "    <tr>\n",
       "      <th>A5</th>\n",
       "      <td>22.00</td>\n",
       "      <td>20.0</td>\n",
       "      <td>23.00</td>\n",
       "      <td>21.67</td>\n",
       "    </tr>\n",
       "    <tr>\n",
       "      <th>A6</th>\n",
       "      <td>20.00</td>\n",
       "      <td>21.0</td>\n",
       "      <td>21.00</td>\n",
       "      <td>20.67</td>\n",
       "    </tr>\n",
       "    <tr>\n",
       "      <th>A7</th>\n",
       "      <td>20.00</td>\n",
       "      <td>19.0</td>\n",
       "      <td>21.00</td>\n",
       "      <td>20.00</td>\n",
       "    </tr>\n",
       "    <tr>\n",
       "      <th>mean</th>\n",
       "      <td>20.71</td>\n",
       "      <td>20.0</td>\n",
       "      <td>21.14</td>\n",
       "      <td>20.62</td>\n",
       "    </tr>\n",
       "  </tbody>\n",
       "</table>"
      ],
      "text/plain": [
       "<IPython.core.display.HTML object>"
      ]
     },
     "execution_count": 8,
     "metadata": {},
     "output_type": "execute_result"
    }
   ],
   "source": [
    "df_mean = df_s.copy()\n",
    "df_mean['mean'] = df_mean.mean(numeric_only=True, axis=1).round(2)\n",
    "df_mean.loc['mean'] = df_mean.mean(numeric_only=True, axis=0).round(2)\n",
    "HTML(df_mean.to_html())"
   ]
  },
  {
   "cell_type": "markdown",
   "metadata": {},
   "source": [
    "### 方差分解"
   ]
  },
  {
   "cell_type": "markdown",
   "metadata": {},
   "source": [
    "$$\n",
    "\\bar{x} = \\frac{1}{N} \\sum_{i=1}^{m}\\sum_{j=1}^{n} x_{ij}\n",
    "$$\n",
    "$$\n",
    "SS_{T} = \\sum_{i=1}^{m}\\sum_{j=1}^{n}(x_{ij}-\\bar{x})^{2}\n",
    "$$\n",
    "$$\n",
    "SS_{t} = n \\sum_{i=1}^{m}(\\bar{x}_{i}-\\bar{x})^{2}\n",
    "$$\n",
    "$$\n",
    "SS_{R} = m \\sum_{j=1}^{n}(\\bar{x}_{j}-\\bar{x})^{2}\n",
    "$$\n",
    "$$\n",
    "SS_{e} = SS_{T} - SS_{t} - SS_{R}\n",
    "$$\n",
    "$$\n",
    "MS = \\frac{SS}{df}\n",
    "$$\n",
    "$$\n",
    "F = \\frac{MS_{t}}{MS_{e}}\n",
    "$$"
   ]
  },
  {
   "cell_type": "markdown",
   "metadata": {},
   "source": [
    "这里，$N$ 表示数据的总数，$m$ 表示小区数，$n$ 表示区组数，$SS_{T}$ 表示总变异，$SS_{t}$ 表示无性系间的变异，$SS_{R}$ 表示区组间的变异，$SS_{e}$ 表示试验误差。"
   ]
  },
  {
   "cell_type": "markdown",
   "metadata": {},
   "source": [
    "### 方差分析表"
   ]
  },
  {
   "cell_type": "markdown",
   "metadata": {},
   "source": [
    "我们通过上述公式可以计算得到结果，如下表所示："
   ]
  },
  {
   "cell_type": "code",
   "execution_count": 107,
   "metadata": {},
   "outputs": [
    {
     "data": {
      "text/html": [
       "<table border=\"1\" class=\"dataframe\">\n",
       "  <thead>\n",
       "    <tr style=\"text-align: right;\">\n",
       "      <th>变异来源</th>\n",
       "      <th>df</th>\n",
       "      <th>SS</th>\n",
       "      <th>MS</th>\n",
       "      <th>F</th>\n",
       "    </tr>\n",
       "  </thead>\n",
       "  <tbody>\n",
       "    <tr>\n",
       "      <td>无性系间</td>\n",
       "      <td>6</td>\n",
       "      <td>74.28</td>\n",
       "      <td>12.38</td>\n",
       "      <td>9.29**</td>\n",
       "    </tr>\n",
       "    <tr>\n",
       "      <td>区组间</td>\n",
       "      <td>2</td>\n",
       "      <td>4.67</td>\n",
       "      <td>2.38</td>\n",
       "      <td></td>\n",
       "    </tr>\n",
       "    <tr>\n",
       "      <td>试验误差</td>\n",
       "      <td>12</td>\n",
       "      <td>16.00</td>\n",
       "      <td>1.33</td>\n",
       "      <td></td>\n",
       "    </tr>\n",
       "    <tr>\n",
       "      <td>总变异</td>\n",
       "      <td>20</td>\n",
       "      <td>94.95</td>\n",
       "      <td></td>\n",
       "      <td></td>\n",
       "    </tr>\n",
       "  </tbody>\n",
       "</table>"
      ],
      "text/plain": [
       "<IPython.core.display.HTML object>"
      ]
     },
     "execution_count": 107,
     "metadata": {},
     "output_type": "execute_result"
    }
   ],
   "source": [
    "anova_data = {'变异来源': ['无性系间', '区组间', '试验误差', '总变异'],\n",
    "              'df': [6, 2, 12, 20],\n",
    "              'SS': [74.28, 4.67, 16.00, 94.95],\n",
    "              'MS': [12.38, 2.38, 1.33, ''],\n",
    "              'F': ['9.29**', '', '', '']}\n",
    "anova_df = pd.DataFrame(data = anova_data)\n",
    "HTML(anova_df.to_html(index=False))"
   ]
  },
  {
   "cell_type": "markdown",
   "metadata": {},
   "source": [
    "经过 F 检验，表明 7 个无性系的平均胸径间有显著差异，所以需要进行多重比较。"
   ]
  },
  {
   "cell_type": "markdown",
   "metadata": {},
   "source": [
    "### 多重比较"
   ]
  },
  {
   "cell_type": "markdown",
   "metadata": {},
   "source": [
    "1. 将 7 个无性系的平均胸径进行从高到低排序。"
   ]
  },
  {
   "cell_type": "code",
   "execution_count": 9,
   "metadata": {},
   "outputs": [
    {
     "data": {
      "text/html": [
       "<table border=\"1\" class=\"dataframe\">\n",
       "  <thead>\n",
       "    <tr style=\"text-align: right;\">\n",
       "      <th>Clone</th>\n",
       "      <th>Value</th>\n",
       "      <th>Rank</th>\n",
       "    </tr>\n",
       "  </thead>\n",
       "  <tbody>\n",
       "    <tr>\n",
       "      <td>A1</td>\n",
       "      <td>24.33</td>\n",
       "      <td>1</td>\n",
       "    </tr>\n",
       "    <tr>\n",
       "      <td>A5</td>\n",
       "      <td>21.67</td>\n",
       "      <td>2</td>\n",
       "    </tr>\n",
       "    <tr>\n",
       "      <td>A6</td>\n",
       "      <td>20.67</td>\n",
       "      <td>3</td>\n",
       "    </tr>\n",
       "    <tr>\n",
       "      <td>A2</td>\n",
       "      <td>20.00</td>\n",
       "      <td>4</td>\n",
       "    </tr>\n",
       "    <tr>\n",
       "      <td>A3</td>\n",
       "      <td>20.00</td>\n",
       "      <td>5</td>\n",
       "    </tr>\n",
       "    <tr>\n",
       "      <td>A7</td>\n",
       "      <td>20.00</td>\n",
       "      <td>6</td>\n",
       "    </tr>\n",
       "    <tr>\n",
       "      <td>A4</td>\n",
       "      <td>17.67</td>\n",
       "      <td>7</td>\n",
       "    </tr>\n",
       "  </tbody>\n",
       "</table>"
      ],
      "text/plain": [
       "<IPython.core.display.HTML object>"
      ]
     },
     "execution_count": 9,
     "metadata": {},
     "output_type": "execute_result"
    }
   ],
   "source": [
    "rank_data = {'Clone': ['A1', 'A5', 'A6', 'A2', 'A3', 'A7', 'A4'],\n",
    "             'Value': [24.33, 21.67, 20.67, 20.00, 20.00, 20.00, 17.67],\n",
    "             'Rank': [1, 2, 3, 4, 5, 6, 7]}\n",
    "rank_df = pd.DataFrame(data = rank_data)\n",
    "HTML(rank_df.to_html(index=False))"
   ]
  },
  {
   "cell_type": "markdown",
   "metadata": {},
   "source": [
    "2. 计算标准误。"
   ]
  },
  {
   "cell_type": "markdown",
   "metadata": {},
   "source": [
    "$$\n",
    "\\bar{s_{d}} = \\sqrt{\\frac{MS_{e}}{n}}\n",
    "$$"
   ]
  },
  {
   "cell_type": "markdown",
   "metadata": {},
   "source": [
    "根据上述公式可以计算出 $\\bar{s_{d}}=0.665$。"
   ]
  },
  {
   "cell_type": "markdown",
   "metadata": {},
   "source": [
    "3. 计算 $(t-1)$ 个无性系间最小显著范围。"
   ]
  },
  {
   "cell_type": "markdown",
   "metadata": {},
   "source": [
    "$$\n",
    "R_{p} = r_{p} \\bar{s_{d}} \\ \\ for \\ p=2,3,\\cdots,t\n",
    "$$"
   ]
  },
  {
   "cell_type": "markdown",
   "metadata": {},
   "source": [
    "通过查[表](https://www.york.ac.uk/depts/maths/tables/duncan.pdf)可以得到不同显著水平下的$r_{p}$值。"
   ]
  },
  {
   "cell_type": "code",
   "execution_count": 10,
   "metadata": {},
   "outputs": [
    {
     "data": {
      "text/html": [
       "<table border=\"1\" class=\"dataframe\">\n",
       "  <thead>\n",
       "    <tr style=\"text-align: right;\">\n",
       "      <th>P</th>\n",
       "      <th>r(12,0.01)</th>\n",
       "      <th>r(12,0.05)</th>\n",
       "    </tr>\n",
       "  </thead>\n",
       "  <tbody>\n",
       "    <tr>\n",
       "      <td>2</td>\n",
       "      <td>4.32</td>\n",
       "      <td>3.08</td>\n",
       "    </tr>\n",
       "    <tr>\n",
       "      <td>3</td>\n",
       "      <td>4.50</td>\n",
       "      <td>3.23</td>\n",
       "    </tr>\n",
       "    <tr>\n",
       "      <td>4</td>\n",
       "      <td>4.62</td>\n",
       "      <td>3.31</td>\n",
       "    </tr>\n",
       "    <tr>\n",
       "      <td>5</td>\n",
       "      <td>4.71</td>\n",
       "      <td>3.37</td>\n",
       "    </tr>\n",
       "    <tr>\n",
       "      <td>6</td>\n",
       "      <td>4.77</td>\n",
       "      <td>3.41</td>\n",
       "    </tr>\n",
       "    <tr>\n",
       "      <td>7</td>\n",
       "      <td>4.82</td>\n",
       "      <td>3.44</td>\n",
       "    </tr>\n",
       "  </tbody>\n",
       "</table>"
      ],
      "text/plain": [
       "<IPython.core.display.HTML object>"
      ]
     },
     "execution_count": 10,
     "metadata": {},
     "output_type": "execute_result"
    }
   ],
   "source": [
    "rp_data = {'P': [2, 3, 4, 5, 6, 7],\n",
    "           'r(12,0.01)': [4.32, 4.50, 4.62, 4.71, 4.77, 4.82],\n",
    "           'r(12,0.05)': [3.08, 3.23, 3.31, 3.37, 3.41, 3.44]}\n",
    "rp_df = pd.DataFrame(data = rp_data)\n",
    "HTML(rp_df.to_html(index=False))"
   ]
  },
  {
   "cell_type": "markdown",
   "metadata": {},
   "source": [
    "然后可以计算出 $R_p$:"
   ]
  },
  {
   "cell_type": "code",
   "execution_count": 12,
   "metadata": {},
   "outputs": [
    {
     "data": {
      "text/html": [
       "<table border=\"1\" class=\"dataframe\">\n",
       "  <thead>\n",
       "    <tr style=\"text-align: right;\">\n",
       "      <th>P</th>\n",
       "      <th>r(12,0.01)</th>\n",
       "      <th>r(12,0.05)</th>\n",
       "    </tr>\n",
       "  </thead>\n",
       "  <tbody>\n",
       "    <tr>\n",
       "      <td>2</td>\n",
       "      <td>2.87</td>\n",
       "      <td>2.05</td>\n",
       "    </tr>\n",
       "    <tr>\n",
       "      <td>3</td>\n",
       "      <td>2.99</td>\n",
       "      <td>2.15</td>\n",
       "    </tr>\n",
       "    <tr>\n",
       "      <td>4</td>\n",
       "      <td>3.07</td>\n",
       "      <td>2.20</td>\n",
       "    </tr>\n",
       "    <tr>\n",
       "      <td>5</td>\n",
       "      <td>3.13</td>\n",
       "      <td>2.24</td>\n",
       "    </tr>\n",
       "    <tr>\n",
       "      <td>6</td>\n",
       "      <td>3.17</td>\n",
       "      <td>2.27</td>\n",
       "    </tr>\n",
       "    <tr>\n",
       "      <td>7</td>\n",
       "      <td>3.21</td>\n",
       "      <td>2.29</td>\n",
       "    </tr>\n",
       "  </tbody>\n",
       "</table>"
      ],
      "text/plain": [
       "<IPython.core.display.HTML object>"
      ]
     },
     "execution_count": 12,
     "metadata": {},
     "output_type": "execute_result"
    }
   ],
   "source": [
    "import math\n",
    "\n",
    "Rp_df = rp_df.copy()\n",
    "Rp_df.iloc[:,1] = Rp_df.iloc[:,1] * 0.665\n",
    "Rp_df.iloc[:,2] = Rp_df.iloc[:,2] * 0.665\n",
    "Rp_df.iloc[:,1] = Rp_df.iloc[:,1].round(2)\n",
    "Rp_df.iloc[:,2] = Rp_df.iloc[:,2].round(2)\n",
    "HTML(Rp_df.to_html(index=False))"
   ]
  },
  {
   "cell_type": "markdown",
   "metadata": {},
   "source": [
    "4. 最后根据显著边界值判断各个无性系之间的差异。"
   ]
  },
  {
   "cell_type": "markdown",
   "metadata": {},
   "source": [
    "利用 `Python` 根据上述过程进行计算。"
   ]
  },
  {
   "cell_type": "code",
   "execution_count": 1,
   "metadata": {},
   "outputs": [
    {
     "name": "stdout",
     "output_type": "stream",
     "text": [
      "[[1, 2], [2, 3, 4, 5, 6], [3, 4, 5, 6, 7]]\n"
     ]
    },
    {
     "data": {
      "text/html": [
       "<div>\n",
       "<style scoped>\n",
       "    .dataframe tbody tr th:only-of-type {\n",
       "        vertical-align: middle;\n",
       "    }\n",
       "\n",
       "    .dataframe tbody tr th {\n",
       "        vertical-align: top;\n",
       "    }\n",
       "\n",
       "    .dataframe thead th {\n",
       "        text-align: right;\n",
       "    }\n",
       "</style>\n",
       "<table border=\"1\" class=\"dataframe\">\n",
       "  <thead>\n",
       "    <tr style=\"text-align: right;\">\n",
       "      <th></th>\n",
       "      <th>Clone</th>\n",
       "      <th>Mean</th>\n",
       "      <th>0</th>\n",
       "      <th>1</th>\n",
       "      <th>2</th>\n",
       "      <th>Group</th>\n",
       "    </tr>\n",
       "  </thead>\n",
       "  <tbody>\n",
       "    <tr>\n",
       "      <th>0</th>\n",
       "      <td>A1</td>\n",
       "      <td>24.33</td>\n",
       "      <td>|</td>\n",
       "      <td></td>\n",
       "      <td></td>\n",
       "      <td>a</td>\n",
       "    </tr>\n",
       "    <tr>\n",
       "      <th>1</th>\n",
       "      <td>A5</td>\n",
       "      <td>21.67</td>\n",
       "      <td>|</td>\n",
       "      <td>|</td>\n",
       "      <td></td>\n",
       "      <td>ab</td>\n",
       "    </tr>\n",
       "    <tr>\n",
       "      <th>2</th>\n",
       "      <td>A6</td>\n",
       "      <td>20.67</td>\n",
       "      <td></td>\n",
       "      <td>|</td>\n",
       "      <td>|</td>\n",
       "      <td>bc</td>\n",
       "    </tr>\n",
       "    <tr>\n",
       "      <th>3</th>\n",
       "      <td>A2</td>\n",
       "      <td>20.00</td>\n",
       "      <td></td>\n",
       "      <td>|</td>\n",
       "      <td>|</td>\n",
       "      <td>bc</td>\n",
       "    </tr>\n",
       "    <tr>\n",
       "      <th>4</th>\n",
       "      <td>A3</td>\n",
       "      <td>20.00</td>\n",
       "      <td></td>\n",
       "      <td>|</td>\n",
       "      <td>|</td>\n",
       "      <td>bc</td>\n",
       "    </tr>\n",
       "    <tr>\n",
       "      <th>5</th>\n",
       "      <td>A7</td>\n",
       "      <td>20.00</td>\n",
       "      <td></td>\n",
       "      <td>|</td>\n",
       "      <td>|</td>\n",
       "      <td>bc</td>\n",
       "    </tr>\n",
       "    <tr>\n",
       "      <th>6</th>\n",
       "      <td>A4</td>\n",
       "      <td>17.67</td>\n",
       "      <td></td>\n",
       "      <td></td>\n",
       "      <td>|</td>\n",
       "      <td>c</td>\n",
       "    </tr>\n",
       "  </tbody>\n",
       "</table>\n",
       "</div>"
      ],
      "text/plain": [
       "  Clone   Mean  0  1  2 Group\n",
       "0    A1  24.33  |           a\n",
       "1    A5  21.67  |  |       ab\n",
       "2    A6  20.67     |  |    bc\n",
       "3    A2  20.00     |  |    bc\n",
       "4    A3  20.00     |  |    bc\n",
       "5    A7  20.00     |  |    bc\n",
       "6    A4  17.67        |     c"
      ]
     },
     "metadata": {},
     "output_type": "display_data"
    }
   ],
   "source": [
    "\"\"\" \n",
    "Duncan's new multiple range test\n",
    "-----------------------------------\n",
    "This is a simple implementation of Duncan's new multiple range test for multiple comparison.\n",
    "\n",
    "Author: Zell Wu\n",
    "Date: 4/7/2023\n",
    "\"\"\"\n",
    "\n",
    "import pandas as pd\n",
    "pd.options.mode.chained_assignment = None  # default='warn'\n",
    "import numpy as np\n",
    "import string\n",
    "\n",
    "\n",
    "def dmrt(values, sd, rp, no_digits=2):\n",
    "    \"\"\" Duncan's new multiple range test\n",
    "    Input:\n",
    "        values: The values from different treatments (do not need to be sorted).\n",
    "        sd: The standard error of the mean difference.\n",
    "        rp: The values of significant studentized ranges obtained from table.\n",
    "        no_digits: The number of digits after the dot.\n",
    "    Output:\n",
    "        A table with MRT alphabetical notation.\n",
    "    \"\"\"\n",
    "    # set critical values\n",
    "    Rp = [round(i * sd, no_digits) for i in rp]\n",
    "    # sort\n",
    "    sorted_values = sorted(values, reverse=True)\n",
    "    # comparison\n",
    "    res = []\n",
    "    done = False\n",
    "    for i in range(0, len(sorted_values)-1):\n",
    "        # loop quit if we has searched all elements\n",
    "        if done:\n",
    "            break\n",
    "        temp = [i+1]\n",
    "        # loop\n",
    "        for j in range(i+1, len(sorted_values)):\n",
    "            # Calculate the difference between two values\n",
    "            diff = sorted_values[i] - sorted_values[j]\n",
    "            rp = Rp[j-i-1]\n",
    "            # Compare difference to critical value\n",
    "            if diff <= rp:\n",
    "                # j+1 is no significant different with i+1 \n",
    "                temp.append(j+1)\n",
    "                # there are no significant differences between i+1 and the end\n",
    "                if j == len(sorted_values) - 1:\n",
    "                    res.append(temp)\n",
    "                    done = True\n",
    "                    break\n",
    "            else:\n",
    "                # duplication e.g. [3,4,5] [4,5]\n",
    "                if res and i != len(sorted_values) - 2 and j == res[-1][-1]:\n",
    "                    break\n",
    "                # comparison between the last two elements, so add the last element into the end individually\n",
    "                if i == len(sorted_values) - 2 and j == len(sorted_values) - 1:\n",
    "                    res.append([j+1])\n",
    "                    done = True\n",
    "                    break\n",
    "                # normal condition: there are significant differences between i+1 and j+1\n",
    "                res.append(temp)\n",
    "                break\n",
    "    return res\n",
    "\n",
    "\n",
    "if __name__ == \"__main__\":\n",
    "\n",
    "    values = [24.33, 20.00, 20.00, 17.67, 21.67, 20.67, 20.00]\n",
    "    sd = 0.665\n",
    "    # You can change the p_value below by commenting and uncommenting\n",
    "    rp = [4.320, 4.504, 4.622, 4.705, 4.767, 4.815]   # p_value=0.01\n",
    "    #rp = [3.081, 3.225, 3.312, 3.370, 3.410, 3.439]   # p_value=0.05\n",
    "\n",
    "    res = dmrt(values, sd, rp)\n",
    "    print(res)\n",
    "\n",
    "    show_df = pd.DataFrame(data = {'Clone': ['A1', 'A5', 'A6', 'A2', 'A3', 'A7', 'A4'],\n",
    "                                   'Mean': [24.33, 21.67, 20.67, 20.00, 20.00, 20.00, 17.67]})\n",
    "    ordinal = 0\n",
    "    for lst in res:\n",
    "        show_df[ordinal] = [''] * len(values)\n",
    "        for i in lst:\n",
    "            show_df[ordinal][i-1] = '|'\n",
    "        ordinal += 1\n",
    "    show_df['Group'] = [''] * len(values)\n",
    "\n",
    "    for i in range(show_df.shape[0]):\n",
    "        for j in range(ordinal):\n",
    "            if show_df[j][i] == '|':\n",
    "                show_df['Group'][i] += list(string.ascii_lowercase)[j]\n",
    "                \n",
    "    display(show_df)"
   ]
  },
  {
   "cell_type": "markdown",
   "metadata": {},
   "source": [
    "## 参考资料"
   ]
  },
  {
   "cell_type": "markdown",
   "metadata": {},
   "source": [
    "> https://baike.baidu.com/item/%E9%9A%8F%E6%9C%BA%E5%AE%8C%E5%85%A8%E5%8C%BA%E7%BB%84%E8%AE%BE%E8%AE%A1/19196063 \\\n",
    "> https://en.wikipedia.org/wiki/Duncan%27s_new_multiple_range_test \\\n",
    "> https://www.biologydiscussion.com/vegetable-breeding-duncans-multiple-range-test-with-diagram-statistics/68180 \\\n",
    "> https://www.york.ac.uk/depts/maths/tables/duncan.pdf \\\n",
    "> http://www.sthda.com/english/wiki/two-way-anova-test-in-r \\\n",
    "> https://rdrr.io/cran/agricolae/man/duncan.test.html"
   ]
  }
 ],
 "metadata": {
  "kernelspec": {
   "display_name": "Python 3 (ipykernel)",
   "language": "python",
   "name": "python3"
  },
  "language_info": {
   "codemirror_mode": {
    "name": "ipython",
    "version": 3
   },
   "file_extension": ".py",
   "mimetype": "text/x-python",
   "name": "python",
   "nbconvert_exporter": "python",
   "pygments_lexer": "ipython3",
   "version": "3.8.6"
  },
  "vscode": {
   "interpreter": {
    "hash": "281bb314f12105b31675f2dfa5ef5db1db3d4d6a6f8af87c8955db97ce54c5b1"
   }
  }
 },
 "nbformat": 4,
 "nbformat_minor": 2
}
